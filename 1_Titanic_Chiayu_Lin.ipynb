{
 "cells": [
  {
   "cell_type": "markdown",
   "metadata": {},
   "source": [
    "# Statistical Programming with Python\n",
    "# Assignment 1 - Titanic Missing Values\n",
    "## Master in Business Analytics and Big Data, 2018-2019\n",
    "### Student: Chia-Yu Lin chiayu.lin@student.ie.edu"
   ]
  },
  {
   "cell_type": "markdown",
   "metadata": {},
   "source": [
    "***"
   ]
  },
  {
   "cell_type": "markdown",
   "metadata": {},
   "source": [
    "### Part I: Exploratory analysis (2 points)"
   ]
  },
  {
   "cell_type": "markdown",
   "metadata": {},
   "source": [
    "**1. Read the dataset correctly using pandas, using an appropriate column as index (1 point)**"
   ]
  },
  {
   "cell_type": "code",
   "execution_count": 2,
   "metadata": {},
   "outputs": [],
   "source": [
    "# Import package pandas\n",
    "import pandas as pd\n",
    "import numpy as np"
   ]
  },
  {
   "cell_type": "code",
   "execution_count": 3,
   "metadata": {
    "scrolled": true
   },
   "outputs": [
    {
     "data": {
      "text/html": [
       "<div>\n",
       "<style scoped>\n",
       "    .dataframe tbody tr th:only-of-type {\n",
       "        vertical-align: middle;\n",
       "    }\n",
       "\n",
       "    .dataframe tbody tr th {\n",
       "        vertical-align: top;\n",
       "    }\n",
       "\n",
       "    .dataframe thead th {\n",
       "        text-align: right;\n",
       "    }\n",
       "</style>\n",
       "<table border=\"1\" class=\"dataframe\">\n",
       "  <thead>\n",
       "    <tr style=\"text-align: right;\">\n",
       "      <th></th>\n",
       "      <th>Survived</th>\n",
       "      <th>Pclass</th>\n",
       "      <th>Name</th>\n",
       "      <th>Sex</th>\n",
       "      <th>Age</th>\n",
       "      <th>SibSp</th>\n",
       "      <th>Parch</th>\n",
       "      <th>Ticket</th>\n",
       "      <th>Fare</th>\n",
       "      <th>Cabin</th>\n",
       "      <th>Embarked</th>\n",
       "    </tr>\n",
       "    <tr>\n",
       "      <th>PassengerId</th>\n",
       "      <th></th>\n",
       "      <th></th>\n",
       "      <th></th>\n",
       "      <th></th>\n",
       "      <th></th>\n",
       "      <th></th>\n",
       "      <th></th>\n",
       "      <th></th>\n",
       "      <th></th>\n",
       "      <th></th>\n",
       "      <th></th>\n",
       "    </tr>\n",
       "  </thead>\n",
       "  <tbody>\n",
       "    <tr>\n",
       "      <th>1</th>\n",
       "      <td>0</td>\n",
       "      <td>3</td>\n",
       "      <td>Braund, Mr. Owen Harris</td>\n",
       "      <td>male</td>\n",
       "      <td>22.0</td>\n",
       "      <td>1</td>\n",
       "      <td>0</td>\n",
       "      <td>A/5 21171</td>\n",
       "      <td>7.2500</td>\n",
       "      <td>NaN</td>\n",
       "      <td>S</td>\n",
       "    </tr>\n",
       "    <tr>\n",
       "      <th>2</th>\n",
       "      <td>1</td>\n",
       "      <td>1</td>\n",
       "      <td>Cumings, Mrs. John Bradley (Florence Briggs Th...</td>\n",
       "      <td>female</td>\n",
       "      <td>38.0</td>\n",
       "      <td>1</td>\n",
       "      <td>0</td>\n",
       "      <td>PC 17599</td>\n",
       "      <td>71.2833</td>\n",
       "      <td>C85</td>\n",
       "      <td>C</td>\n",
       "    </tr>\n",
       "    <tr>\n",
       "      <th>3</th>\n",
       "      <td>1</td>\n",
       "      <td>3</td>\n",
       "      <td>Heikkinen, Miss. Laina</td>\n",
       "      <td>female</td>\n",
       "      <td>26.0</td>\n",
       "      <td>0</td>\n",
       "      <td>0</td>\n",
       "      <td>STON/O2. 3101282</td>\n",
       "      <td>7.9250</td>\n",
       "      <td>NaN</td>\n",
       "      <td>S</td>\n",
       "    </tr>\n",
       "    <tr>\n",
       "      <th>4</th>\n",
       "      <td>1</td>\n",
       "      <td>1</td>\n",
       "      <td>Futrelle, Mrs. Jacques Heath (Lily May Peel)</td>\n",
       "      <td>female</td>\n",
       "      <td>35.0</td>\n",
       "      <td>1</td>\n",
       "      <td>0</td>\n",
       "      <td>113803</td>\n",
       "      <td>53.1000</td>\n",
       "      <td>C123</td>\n",
       "      <td>S</td>\n",
       "    </tr>\n",
       "    <tr>\n",
       "      <th>5</th>\n",
       "      <td>0</td>\n",
       "      <td>3</td>\n",
       "      <td>Allen, Mr. William Henry</td>\n",
       "      <td>male</td>\n",
       "      <td>35.0</td>\n",
       "      <td>0</td>\n",
       "      <td>0</td>\n",
       "      <td>373450</td>\n",
       "      <td>8.0500</td>\n",
       "      <td>NaN</td>\n",
       "      <td>S</td>\n",
       "    </tr>\n",
       "  </tbody>\n",
       "</table>\n",
       "</div>"
      ],
      "text/plain": [
       "             Survived  Pclass  \\\n",
       "PassengerId                     \n",
       "1                   0       3   \n",
       "2                   1       1   \n",
       "3                   1       3   \n",
       "4                   1       1   \n",
       "5                   0       3   \n",
       "\n",
       "                                                          Name     Sex   Age  \\\n",
       "PassengerId                                                                    \n",
       "1                                      Braund, Mr. Owen Harris    male  22.0   \n",
       "2            Cumings, Mrs. John Bradley (Florence Briggs Th...  female  38.0   \n",
       "3                                       Heikkinen, Miss. Laina  female  26.0   \n",
       "4                 Futrelle, Mrs. Jacques Heath (Lily May Peel)  female  35.0   \n",
       "5                                     Allen, Mr. William Henry    male  35.0   \n",
       "\n",
       "             SibSp  Parch            Ticket     Fare Cabin Embarked  \n",
       "PassengerId                                                          \n",
       "1                1      0         A/5 21171   7.2500   NaN        S  \n",
       "2                1      0          PC 17599  71.2833   C85        C  \n",
       "3                0      0  STON/O2. 3101282   7.9250   NaN        S  \n",
       "4                1      0            113803  53.1000  C123        S  \n",
       "5                0      0            373450   8.0500   NaN        S  "
      ]
     },
     "execution_count": 3,
     "metadata": {},
     "output_type": "execute_result"
    }
   ],
   "source": [
    "# Read the dataset\n",
    "titanic = pd.read_csv(\n",
    "    \"train.csv\",\n",
    "    sep=\",\",\n",
    "    index_col=\"PassengerId\",  # assign PassengerId as index.\n",
    ")\n",
    "titanic.head()"
   ]
  },
  {
   "cell_type": "code",
   "execution_count": 3,
   "metadata": {},
   "outputs": [
    {
     "data": {
      "text/plain": [
       "True"
      ]
     },
     "execution_count": 3,
     "metadata": {},
     "output_type": "execute_result"
    }
   ],
   "source": [
    "# Verify if the set index is unique\n",
    "titanic.index.is_unique"
   ]
  },
  {
   "cell_type": "markdown",
   "metadata": {},
   "source": [
    "**2. Compute the percentage of survivors and the percentage of men and women (0.5 points)**"
   ]
  },
  {
   "cell_type": "code",
   "execution_count": 4,
   "metadata": {
    "scrolled": true
   },
   "outputs": [
    {
     "data": {
      "text/plain": [
       "Survived    0\n",
       "Sex         0\n",
       "dtype: int64"
      ]
     },
     "execution_count": 4,
     "metadata": {},
     "output_type": "execute_result"
    }
   ],
   "source": [
    "# Check if there are NAs in the columns used for computation.\n",
    "# Here \"Survived\" and \"Sex\" need to be checked.\n",
    "titanic[[\"Survived\", \"Sex\"]].isna().sum()"
   ]
  },
  {
   "cell_type": "code",
   "execution_count": 5,
   "metadata": {},
   "outputs": [
    {
     "name": "stdout",
     "output_type": "stream",
     "text": [
      "The percentage of survivors:  38.38 %\n",
      "The percentage of male:  64.76 %\n",
      "The percentage of female:  35.24 %\n"
     ]
    }
   ],
   "source": [
    "# Compute the percentage of survivors\n",
    "survivors_pct = round(\n",
    "    ((len(titanic.loc[titanic[\"Survived\"] == 1]) / len(titanic)) * 100), 2\n",
    ")\n",
    "\n",
    "print(\"The percentage of survivors: \", survivors_pct, \"%\")\n",
    "\n",
    "# Compute the percentage of male and female\n",
    "male_pct = round(((len(titanic.loc[titanic[\"Sex\"] == \"male\"]) / len(titanic)) * 100), 2)\n",
    "female_pct = round(\n",
    "    ((len(titanic.loc[titanic[\"Sex\"] == \"female\"]) / len(titanic)) * 100), 2\n",
    ")\n",
    "print(\"The percentage of male: \", male_pct, \"%\")\n",
    "print(\"The percentage of female: \", female_pct, \"%\")"
   ]
  },
  {
   "cell_type": "markdown",
   "metadata": {},
   "source": [
    "**3. Compute the percentage of survivors by sex and the percentage of survivors that were men and women (0.5 points)**"
   ]
  },
  {
   "cell_type": "code",
   "execution_count": 6,
   "metadata": {},
   "outputs": [
    {
     "name": "stdout",
     "output_type": "stream",
     "text": [
      "The percentage of male survivors:  12.23 %\n",
      "The percentage of female survivors:  26.15 %\n"
     ]
    }
   ],
   "source": [
    "# Compute the percentage of male and female survivors\n",
    "male_survivor_pct = round(\n",
    "    (\n",
    "        (\n",
    "            len(titanic.loc[(titanic[\"Survived\"] == 1) & (titanic[\"Sex\"] == \"male\")])\n",
    "            / len(titanic)\n",
    "        )\n",
    "        * 100\n",
    "    ),\n",
    "    2,\n",
    ")\n",
    "\n",
    "female_survivor_pct = round(\n",
    "    (\n",
    "        (\n",
    "            len(titanic.loc[(titanic[\"Survived\"] == 1) & (titanic[\"Sex\"] == \"female\")])\n",
    "            / len(titanic)\n",
    "        )\n",
    "        * 100\n",
    "    ),\n",
    "    2,\n",
    ")\n",
    "\n",
    "\n",
    "print(\"The percentage of male survivors: \", male_survivor_pct, \"%\")\n",
    "print(\"The percentage of female survivors: \", female_survivor_pct, \"%\")"
   ]
  },
  {
   "cell_type": "markdown",
   "metadata": {},
   "source": [
    "**4. Display in a 2 x 2 DataFrame the probability of being male/female and surviving/not surviving (0.5 points)**"
   ]
  },
  {
   "cell_type": "code",
   "execution_count": 7,
   "metadata": {},
   "outputs": [
    {
     "data": {
      "text/html": [
       "<div>\n",
       "<style scoped>\n",
       "    .dataframe tbody tr th:only-of-type {\n",
       "        vertical-align: middle;\n",
       "    }\n",
       "\n",
       "    .dataframe tbody tr th {\n",
       "        vertical-align: top;\n",
       "    }\n",
       "\n",
       "    .dataframe thead th {\n",
       "        text-align: right;\n",
       "    }\n",
       "</style>\n",
       "<table border=\"1\" class=\"dataframe\">\n",
       "  <thead>\n",
       "    <tr style=\"text-align: right;\">\n",
       "      <th></th>\n",
       "      <th>Male (%)</th>\n",
       "      <th>Female (%)</th>\n",
       "    </tr>\n",
       "  </thead>\n",
       "  <tbody>\n",
       "    <tr>\n",
       "      <th>Survival</th>\n",
       "      <td>12.23</td>\n",
       "      <td>26.15</td>\n",
       "    </tr>\n",
       "    <tr>\n",
       "      <th>Not Survival</th>\n",
       "      <td>52.53</td>\n",
       "      <td>9.09</td>\n",
       "    </tr>\n",
       "  </tbody>\n",
       "</table>\n",
       "</div>"
      ],
      "text/plain": [
       "              Male (%)  Female (%)\n",
       "Survival         12.23       26.15\n",
       "Not Survival     52.53        9.09"
      ]
     },
     "execution_count": 7,
     "metadata": {},
     "output_type": "execute_result"
    }
   ],
   "source": [
    "male = pd.Series(\n",
    "    {\n",
    "        \"Survival\": male_survivor_pct,\n",
    "        \"Not Survival\": 100 - female_pct - male_survivor_pct,\n",
    "    }\n",
    ")\n",
    "\n",
    "female = pd.Series(\n",
    "    {\n",
    "        \"Survival\": female_survivor_pct,\n",
    "        \"Not Survival\": 100 - male_pct - female_survivor_pct,\n",
    "    }\n",
    ")\n",
    "\n",
    "\n",
    "df_survivors_pct_by_sex = pd.DataFrame({\"Male (%)\": male, \"Female (%)\": female})\n",
    "df_survivors_pct_by_sex"
   ]
  },
  {
   "cell_type": "markdown",
   "metadata": {},
   "source": [
    "**5. Display in a DataFrame the probability of survival/not survival of all combinations of sex and class (0.5 points)**"
   ]
  },
  {
   "cell_type": "code",
   "execution_count": 11,
   "metadata": {},
   "outputs": [
    {
     "name": "stderr",
     "output_type": "stream",
     "text": [
      "/anaconda3/lib/python3.7/site-packages/ipykernel_launcher.py:5: SettingWithCopyWarning: \n",
      "A value is trying to be set on a copy of a slice from a DataFrame.\n",
      "Try using .loc[row_indexer,col_indexer] = value instead\n",
      "\n",
      "See the caveats in the documentation: http://pandas.pydata.org/pandas-docs/stable/indexing.html#indexing-view-versus-copy\n",
      "  \"\"\"\n",
      "/anaconda3/lib/python3.7/site-packages/pandas/core/indexing.py:543: SettingWithCopyWarning: \n",
      "A value is trying to be set on a copy of a slice from a DataFrame.\n",
      "Try using .loc[row_indexer,col_indexer] = value instead\n",
      "\n",
      "See the caveats in the documentation: http://pandas.pydata.org/pandas-docs/stable/indexing.html#indexing-view-versus-copy\n",
      "  self.obj[item] = s\n"
     ]
    },
    {
     "data": {
      "text/html": [
       "<div>\n",
       "<style scoped>\n",
       "    .dataframe tbody tr th:only-of-type {\n",
       "        vertical-align: middle;\n",
       "    }\n",
       "\n",
       "    .dataframe tbody tr th {\n",
       "        vertical-align: top;\n",
       "    }\n",
       "\n",
       "    .dataframe thead th {\n",
       "        text-align: right;\n",
       "    }\n",
       "</style>\n",
       "<table border=\"1\" class=\"dataframe\">\n",
       "  <thead>\n",
       "    <tr style=\"text-align: right;\">\n",
       "      <th></th>\n",
       "      <th></th>\n",
       "      <th>Survived</th>\n",
       "      <th>Not Survived</th>\n",
       "    </tr>\n",
       "    <tr>\n",
       "      <th>Sex</th>\n",
       "      <th>Pclass</th>\n",
       "      <th></th>\n",
       "      <th></th>\n",
       "    </tr>\n",
       "  </thead>\n",
       "  <tbody>\n",
       "    <tr>\n",
       "      <th rowspan=\"3\" valign=\"top\">female</th>\n",
       "      <th>1</th>\n",
       "      <td>10.21</td>\n",
       "      <td>0.34</td>\n",
       "    </tr>\n",
       "    <tr>\n",
       "      <th>2</th>\n",
       "      <td>7.86</td>\n",
       "      <td>0.67</td>\n",
       "    </tr>\n",
       "    <tr>\n",
       "      <th>3</th>\n",
       "      <td>8.08</td>\n",
       "      <td>8.08</td>\n",
       "    </tr>\n",
       "    <tr>\n",
       "      <th rowspan=\"3\" valign=\"top\">male</th>\n",
       "      <th>1</th>\n",
       "      <td>5.05</td>\n",
       "      <td>8.64</td>\n",
       "    </tr>\n",
       "    <tr>\n",
       "      <th>2</th>\n",
       "      <td>1.91</td>\n",
       "      <td>10.21</td>\n",
       "    </tr>\n",
       "    <tr>\n",
       "      <th>3</th>\n",
       "      <td>5.27</td>\n",
       "      <td>33.67</td>\n",
       "    </tr>\n",
       "  </tbody>\n",
       "</table>\n",
       "</div>"
      ],
      "text/plain": [
       "               Survived  Not Survived\n",
       "Sex    Pclass                        \n",
       "female 1          10.21          0.34\n",
       "       2           7.86          0.67\n",
       "       3           8.08          8.08\n",
       "male   1           5.05          8.64\n",
       "       2           1.91         10.21\n",
       "       3           5.27         33.67"
      ]
     },
     "execution_count": 11,
     "metadata": {},
     "output_type": "execute_result"
    }
   ],
   "source": [
    "# Select the columns needed to be used for computation\n",
    "df = titanic[[\"Sex\", \"Pclass\", \"Survived\"]]\n",
    "\n",
    "# Add a column Not Survived to calculate not-survived passengers\n",
    "df[\"Not Survived\"] = 0\n",
    "df.loc[df.Survived == 0, \"Not Survived\"] = 1\n",
    "\n",
    "# Compute the survival percentage grouping by Sex and Pclass\n",
    "100*(((df.groupby([\"Sex\", \"Pclass\"]).sum()) / len(df)).round(4))"
   ]
  },
  {
   "cell_type": "markdown",
   "metadata": {},
   "source": [
    "### Part II: Imputing missing values (2 points)\n",
    "**Devise some strategy to impute the missing values in the Age column.**"
   ]
  },
  {
   "cell_type": "code",
   "execution_count": 12,
   "metadata": {},
   "outputs": [],
   "source": [
    "import matplotlib.pyplot as plt\n",
    "import seaborn as sns"
   ]
  },
  {
   "cell_type": "code",
   "execution_count": 13,
   "metadata": {},
   "outputs": [
    {
     "name": "stderr",
     "output_type": "stream",
     "text": [
      "/anaconda3/lib/python3.7/site-packages/scipy/stats/stats.py:1713: FutureWarning: Using a non-tuple sequence for multidimensional indexing is deprecated; use `arr[tuple(seq)]` instead of `arr[seq]`. In the future this will be interpreted as an array index, `arr[np.array(seq)]`, which will result either in an error or a different result.\n",
      "  return np.add.reduce(sorted[indexer] * weights, axis=axis) / sumval\n"
     ]
    },
    {
     "data": {
      "text/plain": [
       "<matplotlib.axes._subplots.AxesSubplot at 0x1a1e09fb38>"
      ]
     },
     "execution_count": 13,
     "metadata": {},
     "output_type": "execute_result"
    },
    {
     "data": {
      "image/png": "[encoded data removed]",
      "text/plain": [
       "<Figure size 432x288 with 1 Axes>"
      ]
     },
     "metadata": {
      "needs_background": "light"
     },
     "output_type": "display_data"
    }
   ],
   "source": [
    "# See the overall distribution of Age\n",
    "sns.distplot(titanic[\"Age\"].dropna())"
   ]
  },
  {
   "cell_type": "markdown",
   "metadata": {},
   "source": [
    "Check how many NA values there are in *Age* column."
   ]
  },
  {
   "cell_type": "code",
   "execution_count": 14,
   "metadata": {
    "scrolled": false
   },
   "outputs": [
    {
     "data": {
      "text/plain": [
       "177"
      ]
     },
     "execution_count": 14,
     "metadata": {},
     "output_type": "execute_result"
    }
   ],
   "source": [
    "titanic[\"Age\"].isna().sum()"
   ]
  },
  {
   "cell_type": "markdown",
   "metadata": {},
   "source": [
    "Assuming that *Name*, *Ticket*, *Fare*, *Cabin*, and *Embarked* are not related to the imputation of missing values in *Age*, these columns are disregrded at the first place.<br>\n",
    "<br>\n",
    "Now let's see the distribution for the other four columns - *Pclass*, *Sex*, *SibSp*, and *Parch* - to understand the dataset better."
   ]
  },
  {
   "cell_type": "code",
   "execution_count": 15,
   "metadata": {
    "scrolled": true
   },
   "outputs": [
    {
     "data": {
      "image/png": "[encoded data removed]",
      "text/plain": [
       "<Figure size 2160x720 with 4 Axes>"
      ]
     },
     "metadata": {
      "needs_background": "light"
     },
     "output_type": "display_data"
    }
   ],
   "source": [
    "# Plot the distribution\n",
    "categ = [\"Pclass\", \"Sex\", \"SibSp\", \"Parch\"]\n",
    "\n",
    "fig = plt.figure(figsize=(30, 10))\n",
    "for i in range(0, len(categ)):\n",
    "    fig.add_subplot(3, 3, i + 1)\n",
    "    sns.countplot(x=categ[i], data=titanic)\n",
    "\n",
    "plt.show()"
   ]
  },
  {
   "cell_type": "markdown",
   "metadata": {},
   "source": [
    "**Indiciation from the plots:** *SibSp* and *Parch* have too many 0 values. They are considered to be unhelpful for imputing missing values in *Age*."
   ]
  },
  {
   "cell_type": "markdown",
   "metadata": {},
   "source": [
    "<br>"
   ]
  },
  {
   "cell_type": "markdown",
   "metadata": {},
   "source": [
    "Only *Survived*, *Pclass*, and *Sex* will be taken into consideration to impute missing age."
   ]
  },
  {
   "cell_type": "code",
   "execution_count": 16,
   "metadata": {
    "scrolled": true
   },
   "outputs": [
    {
     "data": {
      "text/plain": [
       "<matplotlib.axes._subplots.AxesSubplot at 0x1a1eb91ba8>"
      ]
     },
     "execution_count": 16,
     "metadata": {},
     "output_type": "execute_result"
    },
    {
     "data": {
      "image/png": "[encoded data removed]",
      "text/plain": [
       "<Figure size 432x288 with 1 Axes>"
      ]
     },
     "metadata": {
      "needs_background": "light"
     },
     "output_type": "display_data"
    }
   ],
   "source": [
    "# Check which class has the most missing values in Age.\n",
    "sns.countplot(\n",
    "    x=\"Pclass\",\n",
    "    data=titanic[titanic[\"Age\"].isna()],\n",
    "    order=titanic[titanic[\"Age\"].isna()][\"Pclass\"].value_counts().index,\n",
    ")"
   ]
  },
  {
   "cell_type": "markdown",
   "metadata": {},
   "source": [
    "Pclass 3 has the most missing values in Age."
   ]
  },
  {
   "cell_type": "code",
   "execution_count": 17,
   "metadata": {
    "scrolled": false
   },
   "outputs": [
    {
     "data": {
      "text/plain": [
       "<seaborn.axisgrid.FacetGrid at 0x1a1e571e10>"
      ]
     },
     "execution_count": 17,
     "metadata": {},
     "output_type": "execute_result"
    },
    {
     "data": {
      "image/png": "[encoded data removed]",
      "text/plain": [
       "<Figure size 771.875x360 with 2 Axes>"
      ]
     },
     "metadata": {
      "needs_background": "light"
     },
     "output_type": "display_data"
    }
   ],
   "source": [
    "# Plot the boxplot of Age vs. Pclass by Survival, separating gender.\n",
    "sns.catplot(\n",
    "    x=\"Pclass\", y=\"Age\", hue=\"Survived\", col=\"Sex\", data=titanic, kind=\"box\", dodge=True\n",
    ")"
   ]
  },
  {
   "cell_type": "markdown",
   "metadata": {},
   "source": [
    "### Decision of NA imputation:\n",
    "Take median age of the combination of each *Pclass*, *Survived*, and *Sex* to fill in missing *Age*."
   ]
  },
  {
   "cell_type": "markdown",
   "metadata": {},
   "source": [
    "- Fill in missing *Age* for male."
   ]
  },
  {
   "cell_type": "code",
   "execution_count": 18,
   "metadata": {},
   "outputs": [],
   "source": [
    "# Pclass=3, Sex=male, Survived=0 \n",
    "titanic.loc[\n",
    "    (titanic.Age.isnull())\n",
    "    & (titanic.Pclass == 3)\n",
    "    & (titanic.Sex == \"male\")\n",
    "    & (titanic.Survived == 0),\n",
    "    \"Age\",\n",
    "] = titanic.Age[titanic.Pclass == 3][titanic.Sex == \"male\"][\n",
    "    titanic.Survived == 0\n",
    "].median()\n",
    "\n",
    "# Pclass=3, Sex=male, Survived=1 \n",
    "titanic.loc[\n",
    "    (titanic.Age.isnull())\n",
    "    & (titanic.Pclass == 3)\n",
    "    & (titanic.Sex == \"male\")\n",
    "    & (titanic.Survived == 1),\n",
    "    \"Age\",\n",
    "] = titanic.Age[titanic.Pclass == 3][titanic.Sex == \"male\"][\n",
    "    titanic.Survived == 1\n",
    "].median()\n",
    "\n",
    "# Pclass=2, Sex=male, Survived=0 \n",
    "titanic.loc[\n",
    "    (titanic.Age.isnull())\n",
    "    & (titanic.Pclass == 2)\n",
    "    & (titanic.Sex == \"male\")\n",
    "    & (titanic.Survived == 0),\n",
    "    \"Age\",\n",
    "] = titanic.Age[titanic.Pclass == 2][titanic.Sex == \"male\"][\n",
    "    titanic.Survived == 0\n",
    "].median()\n",
    "\n",
    "# Pclass=2, Sex=male, Survived=1\n",
    "titanic.loc[\n",
    "    (titanic.Age.isnull())\n",
    "    & (titanic.Pclass == 2)\n",
    "    & (titanic.Sex == \"male\")\n",
    "    & (titanic.Survived == 1),\n",
    "    \"Age\",\n",
    "] = titanic.Age[titanic.Pclass == 2][titanic.Sex == \"male\"][\n",
    "    titanic.Survived == 1\n",
    "].median()\n",
    "\n",
    "# Pclass=1, Sex=male, Survived=0\n",
    "titanic.loc[\n",
    "    (titanic.Age.isnull())\n",
    "    & (titanic.Pclass == 1)\n",
    "    & (titanic.Sex == \"male\")\n",
    "    & (titanic.Survived == 0),\n",
    "    \"Age\",\n",
    "] = titanic.Age[titanic.Pclass == 1][titanic.Sex == \"male\"][\n",
    "    titanic.Survived == 0\n",
    "].median()\n",
    "\n",
    "# Pclass=1, Sex=male, Survived=1\n",
    "titanic.loc[\n",
    "    (titanic.Age.isnull())\n",
    "    & (titanic.Pclass == 1)\n",
    "    & (titanic.Sex == \"male\")\n",
    "    & (titanic.Survived == 1),\n",
    "    \"Age\",\n",
    "] = titanic.Age[titanic.Pclass == 1][titanic.Sex == \"male\"][\n",
    "    titanic.Survived == 1\n",
    "].median()"
   ]
  },
  {
   "cell_type": "markdown",
   "metadata": {},
   "source": [
    "- Fill in missing *Age* for female."
   ]
  },
  {
   "cell_type": "code",
   "execution_count": 19,
   "metadata": {},
   "outputs": [],
   "source": [
    "# Pclass=3, Sex=female, Survived=0\n",
    "titanic.loc[\n",
    "    (titanic.Age.isnull())\n",
    "    & (titanic.Pclass == 3)\n",
    "    & (titanic.Sex == \"female\")\n",
    "    & (titanic.Survived == 0),\n",
    "    \"Age\",\n",
    "] = titanic.Age[titanic.Pclass == 3][titanic.Sex == \"female\"][\n",
    "    titanic.Survived == 0\n",
    "].median()\n",
    "\n",
    "# Pclass=3, Sex=female, Survived=1\n",
    "titanic.loc[\n",
    "    (titanic.Age.isnull())\n",
    "    & (titanic.Pclass == 3)\n",
    "    & (titanic.Sex == \"female\")\n",
    "    & (titanic.Survived == 1),\n",
    "    \"Age\",\n",
    "] = titanic.Age[titanic.Pclass == 3][titanic.Sex == \"female\"][\n",
    "    titanic.Survived == 1\n",
    "].median()\n",
    "\n",
    "# Pclass=2, Sex=female, Survived=0\n",
    "titanic.loc[\n",
    "    (titanic.Age.isnull())\n",
    "    & (titanic.Pclass == 2)\n",
    "    & (titanic.Sex == \"female\")\n",
    "    & (titanic.Survived == 0),\n",
    "    \"Age\",\n",
    "] = titanic.Age[titanic.Pclass == 2][titanic.Sex == \"female\"][\n",
    "    titanic.Survived == 0\n",
    "].median()\n",
    "\n",
    "# Pclass=2, Sex=female, Survived=1\n",
    "titanic.loc[\n",
    "    (titanic.Age.isnull())\n",
    "    & (titanic.Pclass == 2)\n",
    "    & (titanic.Sex == \"female\")\n",
    "    & (titanic.Survived == 1),\n",
    "    \"Age\",\n",
    "] = titanic.Age[titanic.Pclass == 2][titanic.Sex == \"female\"][\n",
    "    titanic.Survived == 1\n",
    "].median()\n",
    "\n",
    "# Pclass=1, Sex=female, Survived=0\n",
    "titanic.loc[\n",
    "    (titanic.Age.isnull())\n",
    "    & (titanic.Pclass == 1)\n",
    "    & (titanic.Sex == \"female\")\n",
    "    & (titanic.Survived == 0),\n",
    "    \"Age\",\n",
    "] = titanic.Age[titanic.Pclass == 1][titanic.Sex == \"female\"][\n",
    "    titanic.Survived == 0\n",
    "].median()\n",
    "\n",
    "# Pclass=1, Sex=female, Survived=1\n",
    "titanic.loc[\n",
    "    (titanic.Age.isnull())\n",
    "    & (titanic.Pclass == 1)\n",
    "    & (titanic.Sex == \"female\")\n",
    "    & (titanic.Survived == 1),\n",
    "    \"Age\",\n",
    "] = titanic.Age[titanic.Pclass == 1][titanic.Sex == \"female\"][\n",
    "    titanic.Survived == 1\n",
    "].median()"
   ]
  },
  {
   "cell_type": "code",
   "execution_count": 20,
   "metadata": {
    "scrolled": true
   },
   "outputs": [
    {
     "data": {
      "text/plain": [
       "0"
      ]
     },
     "execution_count": 20,
     "metadata": {},
     "output_type": "execute_result"
    }
   ],
   "source": [
    "# Check if there is still NA in Age.\n",
    "titanic[\"Age\"].isna().sum()"
   ]
  },
  {
   "cell_type": "markdown",
   "metadata": {},
   "source": [
    "There is no missing value in *Age* anymore."
   ]
  }
 ],
 "metadata": {
  "kernelspec": {
   "display_name": "Python 3",
   "language": "python",
   "name": "python3"
  },
  "language_info": {
   "codemirror_mode": {
    "name": "ipython",
    "version": 3
   },
   "file_extension": ".py",
   "mimetype": "text/x-python",
   "name": "python",
   "nbconvert_exporter": "python",
   "pygments_lexer": "ipython3",
   "version": "3.7.1"
  }
 },
 "nbformat": 4,
 "nbformat_minor": 2
}
